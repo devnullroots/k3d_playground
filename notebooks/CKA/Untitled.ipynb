{
 "cells": [
  {
   "cell_type": "code",
   "execution_count": 6,
   "id": "4dd82147",
   "metadata": {},
   "outputs": [],
   "source": [
    "#Kubectl draining a node\n",
    "#Draining a node\n",
    "#kubectl drain <node-name> --ignore-daemonsets\n",
    "#Uncordon a node(return to cluster schedulling)\n",
    "#kubectl uncordon <node-name>"
   ]
  },
  {
   "cell_type": "code",
   "execution_count": 3,
   "id": "dcf6794b",
   "metadata": {},
   "outputs": [
    {
     "name": "stdout",
     "output_type": "stream",
     "text": [
      "NAME          STATUS   ROLES                  AGE    VERSION\r\n",
      "k8s-control   Ready    control-plane,master   133m   v1.23.0\r\n",
      "k8s-worker1   Ready    <none>                 130m   v1.23.0\r\n"
     ]
    }
   ],
   "source": [
    "!kubectl get nodes"
   ]
  },
  {
   "cell_type": "code",
   "execution_count": 14,
   "id": "86fe1b43",
   "metadata": {},
   "outputs": [
    {
     "name": "stdout",
     "output_type": "stream",
     "text": [
      "pod/my-pod created\r\n"
     ]
    }
   ],
   "source": [
    "!kubectl apply -f k8s/deployments/nginx.yml"
   ]
  },
  {
   "cell_type": "code",
   "execution_count": null,
   "id": "d8336b7c",
   "metadata": {},
   "outputs": [],
   "source": []
  }
 ],
 "metadata": {
  "kernelspec": {
   "display_name": "Python 3 (ipykernel)",
   "language": "python",
   "name": "python3"
  },
  "language_info": {
   "codemirror_mode": {
    "name": "ipython",
    "version": 3
   },
   "file_extension": ".py",
   "mimetype": "text/x-python",
   "name": "python",
   "nbconvert_exporter": "python",
   "pygments_lexer": "ipython3",
   "version": "3.8.10"
  }
 },
 "nbformat": 4,
 "nbformat_minor": 5
}
