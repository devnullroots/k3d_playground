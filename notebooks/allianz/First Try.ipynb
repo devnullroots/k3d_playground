{
 "cells": [
  {
   "cell_type": "code",
   "execution_count": 1,
   "id": "5e301a7f",
   "metadata": {},
   "outputs": [
    {
     "name": "stdout",
     "output_type": "stream",
     "text": [
      "\u001b[36mINFO\u001b[0m[0000] Prep: Network                                \n",
      "\u001b[36mINFO\u001b[0m[0000] Created network 'k3d-gdp-test-assignment'    \n",
      "\u001b[36mINFO\u001b[0m[0000] Created image volume k3d-gdp-test-assignment-images \n",
      "\u001b[36mINFO\u001b[0m[0000] Starting new tools node...                   \n",
      "\u001b[36mINFO\u001b[0m[0000] Creating initializing server node            \n",
      "\u001b[36mINFO\u001b[0m[0000] Creating node 'k3d-gdp-test-assignment-server-0' \n",
      "\u001b[36mINFO\u001b[0m[0001] Pulling image 'ghcr.io/k3d-io/k3d-tools:5.4.4' \n",
      "\u001b[36mINFO\u001b[0m[0002] Pulling image 'docker.io/rancher/k3s:v1.23.8-k3s1' \n",
      "\u001b[36mINFO\u001b[0m[0003] Starting Node 'k3d-gdp-test-assignment-tools' \n",
      "\u001b[36mINFO\u001b[0m[0018] Creating node 'k3d-gdp-test-assignment-server-1' \n",
      "\u001b[36mINFO\u001b[0m[0019] Creating node 'k3d-gdp-test-assignment-server-2' \n",
      "\u001b[36mINFO\u001b[0m[0019] Creating node 'k3d-gdp-test-assignment-agent-0' \n",
      "\u001b[36mINFO\u001b[0m[0019] Creating node 'k3d-gdp-test-assignment-agent-1' \n",
      "\u001b[36mINFO\u001b[0m[0019] Creating node 'k3d-gdp-test-assignment-agent-2' \n",
      "\u001b[36mINFO\u001b[0m[0019] Creating LoadBalancer 'k3d-gdp-test-assignment-serverlb' \n",
      "\u001b[36mINFO\u001b[0m[0020] Pulling image 'ghcr.io/k3d-io/k3d-proxy:5.4.4' \n",
      "\u001b[36mINFO\u001b[0m[0025] Using the k3d-tools node to gather environment information \n",
      "\u001b[36mINFO\u001b[0m[0025] HostIP: using network gateway 172.18.0.1 address \n",
      "\u001b[36mINFO\u001b[0m[0025] Starting cluster 'gdp-test-assignment'       \n",
      "\u001b[36mINFO\u001b[0m[0025] Starting the initializing server...          \n",
      "\u001b[36mINFO\u001b[0m[0025] Starting Node 'k3d-gdp-test-assignment-server-0' \n",
      "\u001b[36mINFO\u001b[0m[0028] Starting servers...                          \n",
      "\u001b[36mINFO\u001b[0m[0028] Starting Node 'k3d-gdp-test-assignment-server-1' \n",
      "\u001b[36mINFO\u001b[0m[0054] Starting Node 'k3d-gdp-test-assignment-server-2' \n",
      "\u001b[36mINFO\u001b[0m[0067] Starting agents...                           \n",
      "\u001b[36mINFO\u001b[0m[0067] Starting Node 'k3d-gdp-test-assignment-agent-0' \n",
      "\u001b[36mINFO\u001b[0m[0067] Starting Node 'k3d-gdp-test-assignment-agent-1' \n",
      "\u001b[36mINFO\u001b[0m[0067] Starting Node 'k3d-gdp-test-assignment-agent-2' \n",
      "\u001b[36mINFO\u001b[0m[0080] Starting helpers...                          \n",
      "\u001b[36mINFO\u001b[0m[0095] Starting Node 'k3d-gdp-test-assignment-serverlb' \n",
      "\u001b[36mINFO\u001b[0m[0102] Injecting records for hostAliases (incl. host.k3d.internal) and for 7 network members into CoreDNS configmap... \n",
      "\u001b[36mINFO\u001b[0m[0104] Cluster 'gdp-test-assignment' created successfully! \n",
      "\u001b[36mINFO\u001b[0m[0105] You can now use it like this:                \n",
      "kubectl cluster-info\n"
     ]
    }
   ],
   "source": [
    "!k3d cluster create gdp-test-assignment --servers 3 --agents 3 --k3s-node-label \"type=control@servers:*\" --k3s-node-label \\\n",
    "\"type=worker@agents:*\""
   ]
  },
  {
   "cell_type": "code",
   "execution_count": 3,
   "id": "1efbb8c0",
   "metadata": {},
   "outputs": [
    {
     "name": "stdout",
     "output_type": "stream",
     "text": [
      "\u001b[0;32mKubernetes control plane\u001b[0m is running at \u001b[0;33mhttps://0.0.0.0:46791\u001b[0m\r\n",
      "\u001b[0;32mCoreDNS\u001b[0m is running at \u001b[0;33mhttps://0.0.0.0:46791/api/v1/namespaces/kube-system/services/kube-dns:dns/proxy\u001b[0m\r\n",
      "\u001b[0;32mMetrics-server\u001b[0m is running at \u001b[0;33mhttps://0.0.0.0:46791/api/v1/namespaces/kube-system/services/https:metrics-server:https/proxy\u001b[0m\r\n",
      "\r\n",
      "To further debug and diagnose cluster problems, use 'kubectl cluster-info dump'.\r\n"
     ]
    }
   ],
   "source": [
    "!kubectl cluster-info"
   ]
  },
  {
   "cell_type": "code",
   "execution_count": 4,
   "id": "84afd47d",
   "metadata": {},
   "outputs": [
    {
     "name": "stdout",
     "output_type": "stream",
     "text": [
      "NAMESPACE     NAME                                          READY   STATUS      RESTARTS        AGE\n",
      "kube-system   pod/coredns-d76bd69b-5c97b                    1/1     Running     1 (2m26s ago)   4m41s\n",
      "kube-system   pod/helm-install-traefik-8b4sv                0/1     Completed   2               4m41s\n",
      "kube-system   pod/helm-install-traefik-crd-bz7kt            0/1     Completed   0               4m41s\n",
      "kube-system   pod/local-path-provisioner-6c79684f77-q8ms5   1/1     Running     1 (2m26s ago)   4m41s\n",
      "kube-system   pod/metrics-server-7cd5fcb6b7-j24j5           1/1     Running     1 (2m26s ago)   4m41s\n",
      "kube-system   pod/svclb-traefik-3bf7601d-dxx86              2/2     Running     0               103s\n",
      "kube-system   pod/svclb-traefik-3bf7601d-gw7qg              2/2     Running     0               103s\n",
      "kube-system   pod/svclb-traefik-3bf7601d-hbclj              2/2     Running     0               102s\n",
      "kube-system   pod/svclb-traefik-3bf7601d-n7vcz              2/2     Running     0               103s\n",
      "kube-system   pod/svclb-traefik-3bf7601d-sm89h              2/2     Running     0               102s\n",
      "kube-system   pod/svclb-traefik-3bf7601d-z6d97              2/2     Running     0               102s\n",
      "kube-system   pod/traefik-df4ff85d6-nnbcp                   1/1     Running     0               103s\n",
      "\n",
      "NAMESPACE     NAME                     TYPE           CLUSTER-IP     EXTERNAL-IP                                                         PORT(S)                      AGE\n",
      "default       service/kubernetes       ClusterIP      10.43.0.1      <none>                                                              443/TCP                      4m57s\n",
      "kube-system   service/kube-dns         ClusterIP      10.43.0.10     <none>                                                              53/UDP,53/TCP,9153/TCP       4m53s\n",
      "kube-system   service/metrics-server   ClusterIP      10.43.13.81    <none>                                                              443/TCP                      4m52s\n",
      "kube-system   service/traefik          LoadBalancer   10.43.135.77   172.18.0.2,172.18.0.3,172.18.0.4,172.18.0.5,172.18.0.6,172.18.0.7   80:30276/TCP,443:30579/TCP   104s\n",
      "\n",
      "NAMESPACE     NAME                                    DESIRED   CURRENT   READY   UP-TO-DATE   AVAILABLE   NODE SELECTOR   AGE\n",
      "kube-system   daemonset.apps/svclb-traefik-3bf7601d   6         6         6       6            6           <none>          104s\n",
      "\n",
      "NAMESPACE     NAME                                     READY   UP-TO-DATE   AVAILABLE   AGE\n",
      "kube-system   deployment.apps/coredns                  1/1     1            1           4m53s\n",
      "kube-system   deployment.apps/local-path-provisioner   1/1     1            1           4m53s\n",
      "kube-system   deployment.apps/metrics-server           1/1     1            1           4m52s\n",
      "kube-system   deployment.apps/traefik                  1/1     1            1           104s\n",
      "\n",
      "NAMESPACE     NAME                                                DESIRED   CURRENT   READY   AGE\n",
      "kube-system   replicaset.apps/coredns-d76bd69b                    1         1         1       4m41s\n",
      "kube-system   replicaset.apps/local-path-provisioner-6c79684f77   1         1         1       4m41s\n",
      "kube-system   replicaset.apps/metrics-server-7cd5fcb6b7           1         1         1       4m41s\n",
      "kube-system   replicaset.apps/traefik-df4ff85d6                   1         1         1       103s\n",
      "\n",
      "NAMESPACE     NAME                                 COMPLETIONS   DURATION   AGE\n",
      "kube-system   job.batch/helm-install-traefik       1/1           3m         4m51s\n",
      "kube-system   job.batch/helm-install-traefik-crd   1/1           2m58s      4m51s\n"
     ]
    }
   ],
   "source": [
    "!kubectl get all -A"
   ]
  },
  {
   "cell_type": "code",
   "execution_count": 6,
   "id": "5491bc5c",
   "metadata": {},
   "outputs": [
    {
     "name": "stdout",
     "output_type": "stream",
     "text": [
      "\"bitnami\" has been added to your repositories\r\n"
     ]
    }
   ],
   "source": [
    "!helm repo add bitnami https://charts.bitnami.com/bitnami"
   ]
  },
  {
   "cell_type": "code",
   "execution_count": 14,
   "id": "ca200f3d",
   "metadata": {
    "scrolled": false
   },
   "outputs": [
    {
     "name": "stdout",
     "output_type": "stream",
     "text": [
      "NAME             \tCHART VERSION\tAPP VERSION\tDESCRIPTION                                       \r\n",
      "bitnami/cassandra\t9.2.8        \t4.0.5      \tApache Cassandra is an open source distributed ...\r\n",
      "bitnami/cassandra\t9.2.7        \t4.0.4      \tApache Cassandra is an open source distributed ...\r\n",
      "bitnami/cassandra\t9.2.6        \t4.0.4      \tApache Cassandra is an open source distributed ...\r\n",
      "bitnami/cassandra\t9.2.5        \t4.0.4      \tApache Cassandra is an open source distributed ...\r\n",
      "bitnami/cassandra\t9.2.4        \t4.0.4      \tApache Cassandra is an open source distributed ...\r\n",
      "bitnami/cassandra\t9.2.3        \t4.0.4      \tApache Cassandra is an open source distributed ...\r\n",
      "bitnami/cassandra\t9.2.2        \t4.0.4      \tApache Cassandra is an open source distributed ...\r\n",
      "bitnami/cassandra\t9.2.0        \t4.0.4      \tApache Cassandra is an open source distributed ...\r\n",
      "bitnami/cassandra\t9.1.23       \t4.0.4      \tApache Cassandra is an open source distributed ...\r\n",
      "bitnami/cassandra\t9.1.22       \t4.0.4      \tApache Cassandra is an open source distributed ...\r\n",
      "bitnami/cassandra\t9.1.19       \t4.0.3      \tApache Cassandra is an open source distributed ...\r\n",
      "bitnami/cassandra\t9.1.18       \t4.0.3      \tApache Cassandra is an open source distributed ...\r\n",
      "bitnami/cassandra\t9.1.17       \t4.0.3      \tApache Cassandra is an open source distributed ...\r\n",
      "bitnami/cassandra\t9.1.16       \t4.0.3      \tApache Cassandra is an open source distributed ...\r\n",
      "bitnami/cassandra\t9.1.15       \t4.0.3      \tApache Cassandra is an open source distributed ...\r\n",
      "bitnami/cassandra\t9.1.14       \t4.0.3      \tApache Cassandra is an open source distributed ...\r\n",
      "bitnami/cassandra\t9.1.13       \t4.0.3      \tApache Cassandra is an open source distributed ...\r\n",
      "bitnami/cassandra\t9.1.11       \t4.0.3      \tApache Cassandra is an open source distributed ...\r\n",
      "bitnami/cassandra\t9.1.10       \t4.0.3      \tApache Cassandra is an open source distributed ...\r\n",
      "bitnami/cassandra\t9.1.9        \t4.0.3      \tApache Cassandra is an open source distributed ...\r\n",
      "bitnami/cassandra\t9.1.8        \t4.0.3      \tApache Cassandra is an open source distributed ...\r\n",
      "bitnami/cassandra\t9.1.7        \t4.0.3      \tApache Cassandra is an open source distributed ...\r\n",
      "bitnami/cassandra\t9.1.6        \t4.0.3      \tApache Cassandra is an open source distributed ...\r\n",
      "bitnami/cassandra\t9.1.5        \t4.0.1      \tApache Cassandra is an open source distributed ...\r\n",
      "bitnami/cassandra\t9.1.4        \t4.0.1      \tApache Cassandra is a free and open-source dist...\r\n",
      "bitnami/cassandra\t9.1.3        \t4.0.1      \tApache Cassandra is a free and open-source dist...\r\n",
      "bitnami/cassandra\t9.1.1        \t4.0.1      \tApache Cassandra is a free and open-source dist...\r\n",
      "bitnami/cassandra\t9.1.0        \t4.0.1      \tApache Cassandra is a free and open-source dist...\r\n"
     ]
    }
   ],
   "source": [
    "!helm search repo bitnami/cassandra --versions"
   ]
  },
  {
   "cell_type": "code",
   "execution_count": 15,
   "id": "972816bd",
   "metadata": {},
   "outputs": [],
   "source": [
    "!helm show values bitnami/cassandra > cassandra_template.yml"
   ]
  },
  {
   "cell_type": "code",
   "execution_count": 20,
   "id": "37d1e308",
   "metadata": {},
   "outputs": [
    {
     "name": "stdout",
     "output_type": "stream",
     "text": [
      "NAME: cassandra00\r\n",
      "LAST DEPLOYED: Wed Jul 20 03:29:14 2022\r\n",
      "NAMESPACE: cassandra\r\n",
      "STATUS: deployed\r\n",
      "REVISION: 1\r\n",
      "TEST SUITE: None\r\n",
      "NOTES:\r\n",
      "CHART NAME: cassandra\r\n",
      "CHART VERSION: 9.2.8\r\n",
      "APP VERSION: 4.0.5** Please be patient while the chart is being deployed **\r\n",
      "\r\n",
      "Cassandra can be accessed through the following URLs from within the cluster:\r\n",
      "\r\n",
      "  - CQL: cassandra00.cassandra.svc.cluster.local:9042\r\n",
      "\r\n",
      "To get your password run:\r\n",
      "\r\n",
      "   export CASSANDRA_PASSWORD=$(kubectl get secret --namespace \"cassandra\" cassandra00 -o jsonpath=\"{.data.cassandra-password}\" | base64 -d)\r\n",
      "\r\n",
      "Check the cluster status by running:\r\n",
      "\r\n",
      "   kubectl exec -it --namespace cassandra $(kubectl get pods --namespace cassandra -l app.kubernetes.io/name=cassandra,app.kubernetes.io/instance=cassandra00 -o jsonpath='{.items[0].metadata.name}') nodetool status\r\n",
      "\r\n",
      "To connect to your Cassandra cluster using CQL:\r\n",
      "\r\n",
      "1. Run a Cassandra pod that you can use as a client:\r\n",
      "\r\n",
      "   kubectl run --namespace cassandra cassandra00-client --rm --tty -i --restart='Never' \\\r\n",
      "   --env CASSANDRA_PASSWORD=$CASSANDRA_PASSWORD \\\r\n",
      "    \\\r\n",
      "   --image docker.io/bitnami/cassandra:4.0.5-debian-11-r0 -- bash\r\n",
      "\r\n",
      "2. Connect using the cqlsh client:\r\n",
      "\r\n",
      "   cqlsh -u cassandra -p $CASSANDRA_PASSWORD cassandra00\r\n",
      "\r\n",
      "To connect to your database from outside the cluster execute the following commands:\r\n",
      "\r\n",
      "   kubectl port-forward --namespace cassandra svc/cassandra00 9042:9042 &\r\n",
      "   cqlsh -u cassandra -p $CASSANDRA_PASSWORD 127.0.0.1 9042\r\n"
     ]
    }
   ],
   "source": [
    "!helm install cassandra00 -f cassandra_template.yml --create-namespace --namespace cassandra bitnami/cassandra "
   ]
  },
  {
   "cell_type": "code",
   "execution_count": 51,
   "id": "46a08ac3",
   "metadata": {},
   "outputs": [
    {
     "name": "stdout",
     "output_type": "stream",
     "text": [
      "NAME            READY   STATUS    RESTARTS      AGE\r\n",
      "cassandra00-0   0/1     Running   2 (96s ago)   11m\r\n"
     ]
    }
   ],
   "source": [
    "!kubectl get pods -n cassandra"
   ]
  },
  {
   "cell_type": "code",
   "execution_count": null,
   "id": "23dfe6da",
   "metadata": {},
   "outputs": [],
   "source": []
  }
 ],
 "metadata": {
  "kernelspec": {
   "display_name": "Python 3 (ipykernel)",
   "language": "python",
   "name": "python3"
  },
  "language_info": {
   "codemirror_mode": {
    "name": "ipython",
    "version": 3
   },
   "file_extension": ".py",
   "mimetype": "text/x-python",
   "name": "python",
   "nbconvert_exporter": "python",
   "pygments_lexer": "ipython3",
   "version": "3.8.10"
  }
 },
 "nbformat": 4,
 "nbformat_minor": 5
}
