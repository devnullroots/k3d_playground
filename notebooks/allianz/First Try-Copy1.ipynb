{
 "cells": [
  {
   "cell_type": "code",
   "execution_count": 1,
   "id": "5e301a7f",
   "metadata": {},
   "outputs": [
    {
     "name": "stdout",
     "output_type": "stream",
     "text": [
      "\u001b[31mFATA\u001b[0m[0000] Failed to create cluster 'gdp-test-assignment' because a cluster with that name already exists \r\n"
     ]
    }
   ],
   "source": [
    "!k3d cluster create gdp-test-assignment --servers 3 --agents 3 --k3s-node-label \"type=control@servers:*\" --k3s-node-label \\\n",
    "\"type=worker@agents:*\""
   ]
  },
  {
   "cell_type": "code",
   "execution_count": 2,
   "id": "1efbb8c0",
   "metadata": {},
   "outputs": [
    {
     "name": "stdout",
     "output_type": "stream",
     "text": [
      "\u001b[0;32mKubernetes control plane\u001b[0m is running at \u001b[0;33mhttps://0.0.0.0:45841\u001b[0m\r\n",
      "\u001b[0;32mCoreDNS\u001b[0m is running at \u001b[0;33mhttps://0.0.0.0:45841/api/v1/namespaces/kube-system/services/kube-dns:dns/proxy\u001b[0m\r\n",
      "\u001b[0;32mMetrics-server\u001b[0m is running at \u001b[0;33mhttps://0.0.0.0:45841/api/v1/namespaces/kube-system/services/https:metrics-server:https/proxy\u001b[0m\r\n",
      "\r\n",
      "To further debug and diagnose cluster problems, use 'kubectl cluster-info dump'.\r\n"
     ]
    }
   ],
   "source": [
    "!kubectl cluster-info"
   ]
  },
  {
   "cell_type": "code",
   "execution_count": 4,
   "id": "84afd47d",
   "metadata": {},
   "outputs": [
    {
     "name": "stdout",
     "output_type": "stream",
     "text": [
      "NAMESPACE     NAME                                          READY   STATUS      RESTARTS       AGE\r\n",
      "kube-system   pod/coredns-d76bd69b-rtpsw                    1/1     Running     2 (82m ago)    4h22m\r\n",
      "kube-system   pod/helm-install-traefik-89l78                0/1     Completed   2              4h22m\r\n",
      "kube-system   pod/helm-install-traefik-crd-86d8c            0/1     Completed   0              4h22m\r\n",
      "kube-system   pod/local-path-provisioner-6c79684f77-5t5nt   1/1     Running     4 (81m ago)    4h22m\r\n",
      "kube-system   pod/metrics-server-7cd5fcb6b7-pzjv7           1/1     Running     3 (81m ago)    4h22m\r\n",
      "kube-system   pod/svclb-traefik-757a97e9-2nf55              2/2     Running     4 (82m ago)    4h20m\r\n",
      "kube-system   pod/svclb-traefik-757a97e9-5zlct              2/2     Running     4 (82m ago)    4h20m\r\n",
      "kube-system   pod/svclb-traefik-757a97e9-66dfc              2/2     Running     2 (149m ago)   4h20m\r\n",
      "kube-system   pod/svclb-traefik-757a97e9-bxbtk              2/2     Running     2 (81m ago)    4h20m\r\n",
      "kube-system   pod/svclb-traefik-757a97e9-fcmzb              2/2     Running     2 (81m ago)    4h20m\r\n",
      "kube-system   pod/svclb-traefik-757a97e9-mskfh              2/2     Running     2 (81m ago)    4h20m\r\n",
      "kube-system   pod/traefik-df4ff85d6-qcq7z                   1/1     Running     1 (81m ago)    4h20m\r\n",
      "\r\n",
      "NAMESPACE     NAME                     TYPE           CLUSTER-IP      EXTERNAL-IP                                              PORT(S)                      AGE\r\n",
      "default       service/kubernetes       ClusterIP      10.43.0.1       <none>                                                   443/TCP                      4h23m\r\n",
      "kube-system   service/kube-dns         ClusterIP      10.43.0.10      <none>                                                   53/UDP,53/TCP,9153/TCP       4h23m\r\n",
      "kube-system   service/metrics-server   ClusterIP      10.43.255.207   <none>                                                   443/TCP                      4h23m\r\n",
      "kube-system   service/traefik          LoadBalancer   10.43.156.196   172.18.0.2,172.18.0.3,172.18.0.4,172.18.0.5,172.18.0.7   80:30458/TCP,443:32183/TCP   4h20m\r\n",
      "\r\n",
      "NAMESPACE     NAME                                    DESIRED   CURRENT   READY   UP-TO-DATE   AVAILABLE   NODE SELECTOR   AGE\r\n",
      "kube-system   daemonset.apps/svclb-traefik-757a97e9   5         5         5       5            5           <none>          4h20m\r\n",
      "\r\n",
      "NAMESPACE     NAME                                     READY   UP-TO-DATE   AVAILABLE   AGE\r\n",
      "kube-system   deployment.apps/coredns                  1/1     1            1           4h23m\r\n",
      "kube-system   deployment.apps/local-path-provisioner   1/1     1            1           4h23m\r\n",
      "kube-system   deployment.apps/metrics-server           1/1     1            1           4h23m\r\n",
      "kube-system   deployment.apps/traefik                  1/1     1            1           4h20m\r\n",
      "\r\n",
      "NAMESPACE     NAME                                                DESIRED   CURRENT   READY   AGE\r\n",
      "kube-system   replicaset.apps/coredns-d76bd69b                    1         1         1       4h22m\r\n",
      "kube-system   replicaset.apps/local-path-provisioner-6c79684f77   1         1         1       4h22m\r\n",
      "kube-system   replicaset.apps/metrics-server-7cd5fcb6b7           1         1         1       4h22m\r\n",
      "kube-system   replicaset.apps/traefik-df4ff85d6                   1         1         1       4h20m\r\n",
      "\r\n",
      "NAMESPACE     NAME                                 COMPLETIONS   DURATION   AGE\r\n",
      "kube-system   job.batch/helm-install-traefik       1/1           2m4s       4h23m\r\n",
      "kube-system   job.batch/helm-install-traefik-crd   1/1           110s       4h23m\r\n"
     ]
    }
   ],
   "source": [
    "!kubectl get all -A"
   ]
  },
  {
   "cell_type": "code",
   "execution_count": 7,
   "id": "5491bc5c",
   "metadata": {},
   "outputs": [
    {
     "name": "stdout",
     "output_type": "stream",
     "text": [
      "\"bitnami\" has been added to your repositories\r\n"
     ]
    }
   ],
   "source": [
    "!helm repo add bitnami https://charts.bitnami.com/bitnami"
   ]
  },
  {
   "cell_type": "code",
   "execution_count": 14,
   "id": "ca200f3d",
   "metadata": {
    "scrolled": false
   },
   "outputs": [
    {
     "name": "stdout",
     "output_type": "stream",
     "text": [
      "NAME             \tCHART VERSION\tAPP VERSION\tDESCRIPTION                                       \r\n",
      "bitnami/cassandra\t9.2.8        \t4.0.5      \tApache Cassandra is an open source distributed ...\r\n",
      "bitnami/cassandra\t9.2.7        \t4.0.4      \tApache Cassandra is an open source distributed ...\r\n",
      "bitnami/cassandra\t9.2.6        \t4.0.4      \tApache Cassandra is an open source distributed ...\r\n",
      "bitnami/cassandra\t9.2.5        \t4.0.4      \tApache Cassandra is an open source distributed ...\r\n",
      "bitnami/cassandra\t9.2.4        \t4.0.4      \tApache Cassandra is an open source distributed ...\r\n",
      "bitnami/cassandra\t9.2.3        \t4.0.4      \tApache Cassandra is an open source distributed ...\r\n",
      "bitnami/cassandra\t9.2.2        \t4.0.4      \tApache Cassandra is an open source distributed ...\r\n",
      "bitnami/cassandra\t9.2.0        \t4.0.4      \tApache Cassandra is an open source distributed ...\r\n",
      "bitnami/cassandra\t9.1.23       \t4.0.4      \tApache Cassandra is an open source distributed ...\r\n",
      "bitnami/cassandra\t9.1.22       \t4.0.4      \tApache Cassandra is an open source distributed ...\r\n",
      "bitnami/cassandra\t9.1.19       \t4.0.3      \tApache Cassandra is an open source distributed ...\r\n",
      "bitnami/cassandra\t9.1.18       \t4.0.3      \tApache Cassandra is an open source distributed ...\r\n",
      "bitnami/cassandra\t9.1.17       \t4.0.3      \tApache Cassandra is an open source distributed ...\r\n",
      "bitnami/cassandra\t9.1.16       \t4.0.3      \tApache Cassandra is an open source distributed ...\r\n",
      "bitnami/cassandra\t9.1.15       \t4.0.3      \tApache Cassandra is an open source distributed ...\r\n",
      "bitnami/cassandra\t9.1.14       \t4.0.3      \tApache Cassandra is an open source distributed ...\r\n",
      "bitnami/cassandra\t9.1.13       \t4.0.3      \tApache Cassandra is an open source distributed ...\r\n",
      "bitnami/cassandra\t9.1.11       \t4.0.3      \tApache Cassandra is an open source distributed ...\r\n",
      "bitnami/cassandra\t9.1.10       \t4.0.3      \tApache Cassandra is an open source distributed ...\r\n",
      "bitnami/cassandra\t9.1.9        \t4.0.3      \tApache Cassandra is an open source distributed ...\r\n",
      "bitnami/cassandra\t9.1.8        \t4.0.3      \tApache Cassandra is an open source distributed ...\r\n",
      "bitnami/cassandra\t9.1.7        \t4.0.3      \tApache Cassandra is an open source distributed ...\r\n",
      "bitnami/cassandra\t9.1.6        \t4.0.3      \tApache Cassandra is an open source distributed ...\r\n",
      "bitnami/cassandra\t9.1.5        \t4.0.1      \tApache Cassandra is an open source distributed ...\r\n",
      "bitnami/cassandra\t9.1.4        \t4.0.1      \tApache Cassandra is a free and open-source dist...\r\n",
      "bitnami/cassandra\t9.1.3        \t4.0.1      \tApache Cassandra is a free and open-source dist...\r\n",
      "bitnami/cassandra\t9.1.1        \t4.0.1      \tApache Cassandra is a free and open-source dist...\r\n",
      "bitnami/cassandra\t9.1.0        \t4.0.1      \tApache Cassandra is a free and open-source dist...\r\n"
     ]
    }
   ],
   "source": [
    "!helm search repo bitnami/cassandra --versions"
   ]
  },
  {
   "cell_type": "code",
   "execution_count": 15,
   "id": "972816bd",
   "metadata": {},
   "outputs": [],
   "source": [
    "!helm show values bitnami/cassandra > cassandra_template.yml"
   ]
  },
  {
   "cell_type": "code",
   "execution_count": 9,
   "id": "37d1e308",
   "metadata": {},
   "outputs": [
    {
     "name": "stdout",
     "output_type": "stream",
     "text": [
      "NAME: cassandradb\r\n",
      "LAST DEPLOYED: Wed Jul 20 08:50:29 2022\r\n",
      "NAMESPACE: cassandra\r\n",
      "STATUS: deployed\r\n",
      "REVISION: 1\r\n",
      "TEST SUITE: None\r\n",
      "NOTES:\r\n",
      "CHART NAME: cassandra\r\n",
      "CHART VERSION: 9.2.8\r\n",
      "APP VERSION: 4.0.5** Please be patient while the chart is being deployed **\r\n",
      "\r\n",
      "Cassandra can be accessed through the following URLs from within the cluster:\r\n",
      "\r\n",
      "  - CQL: cassandradb.cassandra.svc.cluster.local:9042\r\n",
      "\r\n",
      "To get your password run:\r\n",
      "\r\n",
      "   export CASSANDRA_PASSWORD=$(kubectl get secret --namespace \"cassandra\" cassandradb -o jsonpath=\"{.data.cassandra-password}\" | base64 -d)\r\n",
      "\r\n",
      "Check the cluster status by running:\r\n",
      "\r\n",
      "   kubectl exec -it --namespace cassandra $(kubectl get pods --namespace cassandra -l app.kubernetes.io/name=cassandra,app.kubernetes.io/instance=cassandradb -o jsonpath='{.items[0].metadata.name}') nodetool status\r\n",
      "\r\n",
      "To connect to your Cassandra cluster using CQL:\r\n",
      "\r\n",
      "1. Run a Cassandra pod that you can use as a client:\r\n",
      "\r\n",
      "   kubectl run --namespace cassandra cassandradb-client --rm --tty -i --restart='Never' \\\r\n",
      "   --env CASSANDRA_PASSWORD=$CASSANDRA_PASSWORD \\\r\n",
      "    \\\r\n",
      "   --image docker.io/bitnami/cassandra:4.0.5-debian-11-r0 -- bash\r\n",
      "\r\n",
      "2. Connect using the cqlsh client:\r\n",
      "\r\n",
      "   cqlsh -u cassandra -p $CASSANDRA_PASSWORD cassandradb\r\n",
      "\r\n",
      "To connect to your database from outside the cluster execute the following commands:\r\n",
      "\r\n",
      "   kubectl port-forward --namespace cassandra svc/cassandradb 9042:9042 &\r\n",
      "   cqlsh -u cassandra -p $CASSANDRA_PASSWORD 127.0.0.1 9042\r\n"
     ]
    }
   ],
   "source": [
    "!helm install cassandradb -f cassandra_template.yml --create-namespace --namespace cassandra bitnami/cassandra "
   ]
  },
  {
   "cell_type": "code",
   "execution_count": 24,
   "id": "46a08ac3",
   "metadata": {},
   "outputs": [
    {
     "name": "stdout",
     "output_type": "stream",
     "text": [
      "NAME            READY   STATUS              RESTARTS   AGE\r\n",
      "cassandradb-0   0/1     ContainerCreating   0          21s\r\n"
     ]
    }
   ],
   "source": [
    "!kubectl get pods -n cassandra"
   ]
  },
  {
   "cell_type": "code",
   "execution_count": null,
   "id": "23dfe6da",
   "metadata": {},
   "outputs": [],
   "source": []
  }
 ],
 "metadata": {
  "kernelspec": {
   "display_name": "Python 3 (ipykernel)",
   "language": "python",
   "name": "python3"
  },
  "language_info": {
   "codemirror_mode": {
    "name": "ipython",
    "version": 3
   },
   "file_extension": ".py",
   "mimetype": "text/x-python",
   "name": "python",
   "nbconvert_exporter": "python",
   "pygments_lexer": "ipython3",
   "version": "3.8.10"
  }
 },
 "nbformat": 4,
 "nbformat_minor": 5
}
