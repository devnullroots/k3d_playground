{
 "cells": [
  {
   "cell_type": "code",
   "execution_count": 1,
   "id": "f34b59a8",
   "metadata": {},
   "outputs": [
    {
     "name": "stdout",
     "output_type": "stream",
     "text": [
      "\u001b[36mINFO\u001b[0m[0000] Prep: Network                                \n",
      "\u001b[36mINFO\u001b[0m[0000] Created network 'k3d-gdp-test-assignment'    \n",
      "\u001b[36mINFO\u001b[0m[0000] Created image volume k3d-gdp-test-assignment-images \n",
      "\u001b[36mINFO\u001b[0m[0000] Starting new tools node...                   \n",
      "\u001b[36mINFO\u001b[0m[0000] Creating initializing server node            \n",
      "\u001b[36mINFO\u001b[0m[0000] Creating node 'k3d-gdp-test-assignment-server-0' \n",
      "\u001b[36mINFO\u001b[0m[0001] Pulling image 'ghcr.io/k3d-io/k3d-tools:5.4.4' \n",
      "\u001b[36mINFO\u001b[0m[0002] Pulling image 'docker.io/rancher/k3s:v1.23.8-k3s1' \n",
      "\u001b[36mINFO\u001b[0m[0004] Starting Node 'k3d-gdp-test-assignment-tools' \n",
      "\u001b[36mINFO\u001b[0m[0012] Creating node 'k3d-gdp-test-assignment-server-1' \n",
      "\u001b[36mINFO\u001b[0m[0014] Creating node 'k3d-gdp-test-assignment-server-2' \n",
      "\u001b[36mINFO\u001b[0m[0014] Creating node 'k3d-gdp-test-assignment-agent-0' \n",
      "\u001b[36mINFO\u001b[0m[0014] Creating node 'k3d-gdp-test-assignment-agent-1' \n",
      "\u001b[36mINFO\u001b[0m[0014] Creating node 'k3d-gdp-test-assignment-agent-2' \n",
      "\u001b[36mINFO\u001b[0m[0015] Creating LoadBalancer 'k3d-gdp-test-assignment-serverlb' \n",
      "\u001b[36mINFO\u001b[0m[0015] Pulling image 'ghcr.io/k3d-io/k3d-proxy:5.4.4' \n",
      "\u001b[36mINFO\u001b[0m[0019] Using the k3d-tools node to gather environment information \n",
      "\u001b[36mINFO\u001b[0m[0020] HostIP: using network gateway 172.18.0.1 address \n",
      "\u001b[36mINFO\u001b[0m[0020] Starting cluster 'gdp-test-assignment'       \n",
      "\u001b[36mINFO\u001b[0m[0020] Starting the initializing server...          \n",
      "\u001b[36mINFO\u001b[0m[0020] Starting Node 'k3d-gdp-test-assignment-server-0' \n",
      "\u001b[36mINFO\u001b[0m[0023] Starting servers...                          \n",
      "\u001b[36mINFO\u001b[0m[0023] Starting Node 'k3d-gdp-test-assignment-server-1' \n",
      "\u001b[36mINFO\u001b[0m[0048] Starting Node 'k3d-gdp-test-assignment-server-2' \n",
      "\u001b[36mINFO\u001b[0m[0060] Starting agents...                           \n",
      "\u001b[36mINFO\u001b[0m[0060] Starting Node 'k3d-gdp-test-assignment-agent-0' \n",
      "\u001b[36mINFO\u001b[0m[0060] Starting Node 'k3d-gdp-test-assignment-agent-2' \n",
      "\u001b[36mINFO\u001b[0m[0060] Starting Node 'k3d-gdp-test-assignment-agent-1' \n",
      "\u001b[36mINFO\u001b[0m[0072] Starting helpers...                          \n",
      "\u001b[36mINFO\u001b[0m[0093] Starting Node 'k3d-gdp-test-assignment-serverlb' \n",
      "\u001b[36mINFO\u001b[0m[0101] Injecting records for hostAliases (incl. host.k3d.internal) and for 7 network members into CoreDNS configmap... \n",
      "\u001b[36mINFO\u001b[0m[0104] Cluster 'gdp-test-assignment' created successfully! \n",
      "\u001b[36mINFO\u001b[0m[0104] You can now use it like this:                \n",
      "kubectl cluster-info\n"
     ]
    }
   ],
   "source": [
    "!k3d cluster create gdp-test-assignment --servers 3 --agents 3 --k3s-node-label \"type=control@servers:*\" --k3s-node-label \\\n",
    "\"type=worker@agents:*\""
   ]
  },
  {
   "cell_type": "code",
   "execution_count": 2,
   "id": "614f5f35",
   "metadata": {},
   "outputs": [
    {
     "name": "stdout",
     "output_type": "stream",
     "text": [
      "\u001b[0;32mKubernetes control plane\u001b[0m is running at \u001b[0;33mhttps://0.0.0.0:45841\u001b[0m\r\n",
      "\u001b[0;32mCoreDNS\u001b[0m is running at \u001b[0;33mhttps://0.0.0.0:45841/api/v1/namespaces/kube-system/services/kube-dns:dns/proxy\u001b[0m\r\n",
      "\u001b[0;32mMetrics-server\u001b[0m is running at \u001b[0;33mhttps://0.0.0.0:45841/api/v1/namespaces/kube-system/services/https:metrics-server:https/proxy\u001b[0m\r\n",
      "\r\n",
      "To further debug and diagnose cluster problems, use 'kubectl cluster-info dump'.\r\n"
     ]
    }
   ],
   "source": [
    "!kubectl cluster-info"
   ]
  },
  {
   "cell_type": "code",
   "execution_count": 3,
   "id": "534ceb28",
   "metadata": {},
   "outputs": [
    {
     "name": "stdout",
     "output_type": "stream",
     "text": [
      "NAME                               STATUS   ROLES                       AGE    VERSION\r\n",
      "k3d-gdp-test-assignment-agent-0    Ready    <none>                      89s    v1.23.8+k3s1\r\n",
      "k3d-gdp-test-assignment-agent-1    Ready    <none>                      89s    v1.23.8+k3s1\r\n",
      "k3d-gdp-test-assignment-agent-2    Ready    <none>                      89s    v1.23.8+k3s1\r\n",
      "k3d-gdp-test-assignment-server-0   Ready    control-plane,etcd,master   2m4s   v1.23.8+k3s1\r\n",
      "k3d-gdp-test-assignment-server-1   Ready    control-plane,etcd,master   108s   v1.23.8+k3s1\r\n",
      "k3d-gdp-test-assignment-server-2   Ready    control-plane,etcd,master   95s    v1.23.8+k3s1\r\n"
     ]
    }
   ],
   "source": [
    "!kubectl get nodes"
   ]
  },
  {
   "cell_type": "code",
   "execution_count": 4,
   "id": "e53eaaaa",
   "metadata": {},
   "outputs": [
    {
     "name": "stdout",
     "output_type": "stream",
     "text": [
      "NAMESPACE     NAME                                          READY   STATUS      RESTARTS      AGE\r\n",
      "kube-system   pod/coredns-d76bd69b-rtpsw                    1/1     Running     0             2m34s\r\n",
      "kube-system   pod/helm-install-traefik-89l78                0/1     Completed   2             2m34s\r\n",
      "kube-system   pod/helm-install-traefik-crd-86d8c            0/1     Completed   0             2m34s\r\n",
      "kube-system   pod/local-path-provisioner-6c79684f77-5t5nt   1/1     Running     1 (76s ago)   2m34s\r\n",
      "kube-system   pod/metrics-server-7cd5fcb6b7-pzjv7           1/1     Running     0             2m34s\r\n",
      "kube-system   pod/svclb-traefik-757a97e9-2nf55              2/2     Running     0             33s\r\n",
      "kube-system   pod/svclb-traefik-757a97e9-5zlct              2/2     Running     0             33s\r\n",
      "kube-system   pod/svclb-traefik-757a97e9-66dfc              2/2     Running     0             33s\r\n",
      "kube-system   pod/svclb-traefik-757a97e9-bxbtk              2/2     Running     0             33s\r\n",
      "kube-system   pod/svclb-traefik-757a97e9-fcmzb              2/2     Running     0             33s\r\n",
      "kube-system   pod/svclb-traefik-757a97e9-mskfh              2/2     Running     0             33s\r\n",
      "kube-system   pod/traefik-df4ff85d6-qcq7z                   1/1     Running     0             33s\r\n",
      "\r\n",
      "NAMESPACE     NAME                     TYPE           CLUSTER-IP      EXTERNAL-IP                                                         PORT(S)                      AGE\r\n",
      "default       service/kubernetes       ClusterIP      10.43.0.1       <none>                                                              443/TCP                      2m48s\r\n",
      "kube-system   service/kube-dns         ClusterIP      10.43.0.10      <none>                                                              53/UDP,53/TCP,9153/TCP       2m45s\r\n",
      "kube-system   service/metrics-server   ClusterIP      10.43.255.207   <none>                                                              443/TCP                      2m44s\r\n",
      "kube-system   service/traefik          LoadBalancer   10.43.156.196   172.18.0.2,172.18.0.3,172.18.0.4,172.18.0.5,172.18.0.6,172.18.0.7   80:30458/TCP,443:32183/TCP   33s\r\n",
      "\r\n",
      "NAMESPACE     NAME                                    DESIRED   CURRENT   READY   UP-TO-DATE   AVAILABLE   NODE SELECTOR   AGE\r\n",
      "kube-system   daemonset.apps/svclb-traefik-757a97e9   6         6         6       6            6           <none>          33s\r\n",
      "\r\n",
      "NAMESPACE     NAME                                     READY   UP-TO-DATE   AVAILABLE   AGE\r\n",
      "kube-system   deployment.apps/coredns                  1/1     1            1           2m45s\r\n",
      "kube-system   deployment.apps/local-path-provisioner   1/1     1            1           2m45s\r\n",
      "kube-system   deployment.apps/metrics-server           1/1     1            1           2m45s\r\n",
      "kube-system   deployment.apps/traefik                  1/1     1            1           33s\r\n",
      "\r\n",
      "NAMESPACE     NAME                                                DESIRED   CURRENT   READY   AGE\r\n",
      "kube-system   replicaset.apps/coredns-d76bd69b                    1         1         1       2m34s\r\n",
      "kube-system   replicaset.apps/local-path-provisioner-6c79684f77   1         1         1       2m34s\r\n",
      "kube-system   replicaset.apps/metrics-server-7cd5fcb6b7           1         1         1       2m34s\r\n",
      "kube-system   replicaset.apps/traefik-df4ff85d6                   1         1         1       33s\r\n",
      "\r\n",
      "NAMESPACE     NAME                                 COMPLETIONS   DURATION   AGE\r\n",
      "kube-system   job.batch/helm-install-traefik       1/1           2m4s       2m43s\r\n",
      "kube-system   job.batch/helm-install-traefik-crd   1/1           110s       2m43s\r\n"
     ]
    }
   ],
   "source": [
    "!kubectl get all -A"
   ]
  },
  {
   "cell_type": "code",
   "execution_count": null,
   "id": "308ae646",
   "metadata": {},
   "outputs": [],
   "source": []
  }
 ],
 "metadata": {
  "kernelspec": {
   "display_name": "Python 3 (ipykernel)",
   "language": "python",
   "name": "python3"
  },
  "language_info": {
   "codemirror_mode": {
    "name": "ipython",
    "version": 3
   },
   "file_extension": ".py",
   "mimetype": "text/x-python",
   "name": "python",
   "nbconvert_exporter": "python",
   "pygments_lexer": "ipython3",
   "version": "3.8.10"
  }
 },
 "nbformat": 4,
 "nbformat_minor": 5
}
