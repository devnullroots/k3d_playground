{
 "cells": [
  {
   "cell_type": "code",
   "execution_count": 1,
   "id": "1057326d",
   "metadata": {},
   "outputs": [
    {
     "name": "stdout",
     "output_type": "stream",
     "text": [
      "NAME              STATUS   AGE\r\n",
      "default           Active   106m\r\n",
      "kube-node-lease   Active   106m\r\n",
      "kube-public       Active   106m\r\n",
      "kube-system       Active   106m\r\n"
     ]
    }
   ],
   "source": [
    "!kubectl get namespaces"
   ]
  },
  {
   "cell_type": "code",
   "execution_count": 2,
   "id": "cda0b022",
   "metadata": {},
   "outputs": [
    {
     "name": "stdout",
     "output_type": "stream",
     "text": [
      "NAME                                       READY   STATUS    RESTARTS   AGE\r\n",
      "calico-kube-controllers-7bc6547ffb-r5flk   1/1     Running   0          106m\r\n",
      "calico-node-gt52j                          1/1     Running   0          106m\r\n",
      "calico-node-qfpqj                          1/1     Running   0          103m\r\n",
      "coredns-64897985d-lxsgt                    1/1     Running   0          107m\r\n",
      "coredns-64897985d-sdrkn                    1/1     Running   0          107m\r\n",
      "etcd-k8s-control                           1/1     Running   0          107m\r\n",
      "kube-apiserver-k8s-control                 1/1     Running   0          107m\r\n",
      "kube-controller-manager-k8s-control        1/1     Running   0          107m\r\n",
      "kube-proxy-fwhsb                           1/1     Running   0          103m\r\n",
      "kube-proxy-hn75t                           1/1     Running   0          107m\r\n",
      "kube-scheduler-k8s-control                 1/1     Running   0          107m\r\n"
     ]
    }
   ],
   "source": [
    "!kubectl get pods -n kube-system"
   ]
  },
  {
   "cell_type": "code",
   "execution_count": 3,
   "id": "9323037f",
   "metadata": {},
   "outputs": [
    {
     "name": "stdout",
     "output_type": "stream",
     "text": [
      "NAMESPACE     NAME                                       READY   STATUS    RESTARTS   AGE\r\n",
      "kube-system   calico-kube-controllers-7bc6547ffb-r5flk   1/1     Running   0          109m\r\n",
      "kube-system   calico-node-gt52j                          1/1     Running   0          109m\r\n",
      "kube-system   calico-node-qfpqj                          1/1     Running   0          105m\r\n",
      "kube-system   coredns-64897985d-lxsgt                    1/1     Running   0          109m\r\n",
      "kube-system   coredns-64897985d-sdrkn                    1/1     Running   0          109m\r\n",
      "kube-system   etcd-k8s-control                           1/1     Running   0          109m\r\n",
      "kube-system   kube-apiserver-k8s-control                 1/1     Running   0          109m\r\n",
      "kube-system   kube-controller-manager-k8s-control        1/1     Running   0          109m\r\n",
      "kube-system   kube-proxy-fwhsb                           1/1     Running   0          105m\r\n",
      "kube-system   kube-proxy-hn75t                           1/1     Running   0          109m\r\n",
      "kube-system   kube-scheduler-k8s-control                 1/1     Running   0          109m\r\n"
     ]
    }
   ],
   "source": [
    "!kubectl get pods --all-namespaces"
   ]
  },
  {
   "cell_type": "code",
   "execution_count": 4,
   "id": "c6a8ea72",
   "metadata": {},
   "outputs": [
    {
     "name": "stdout",
     "output_type": "stream",
     "text": [
      "namespace/my-namespace created\r\n"
     ]
    }
   ],
   "source": [
    "!kubectl create namespace my-namespace"
   ]
  },
  {
   "cell_type": "code",
   "execution_count": 5,
   "id": "08c6a2a4",
   "metadata": {},
   "outputs": [
    {
     "name": "stdout",
     "output_type": "stream",
     "text": [
      "NAME              STATUS   AGE\r\n",
      "default           Active   110m\r\n",
      "kube-node-lease   Active   110m\r\n",
      "kube-public       Active   110m\r\n",
      "kube-system       Active   110m\r\n",
      "my-namespace      Active   15s\r\n"
     ]
    }
   ],
   "source": [
    "!kubectl get namespaces"
   ]
  },
  {
   "cell_type": "code",
   "execution_count": null,
   "id": "ea451ab5",
   "metadata": {},
   "outputs": [],
   "source": []
  }
 ],
 "metadata": {
  "kernelspec": {
   "display_name": "Python 3 (ipykernel)",
   "language": "python",
   "name": "python3"
  },
  "language_info": {
   "codemirror_mode": {
    "name": "ipython",
    "version": 3
   },
   "file_extension": ".py",
   "mimetype": "text/x-python",
   "name": "python",
   "nbconvert_exporter": "python",
   "pygments_lexer": "ipython3",
   "version": "3.8.10"
  }
 },
 "nbformat": 4,
 "nbformat_minor": 5
}
